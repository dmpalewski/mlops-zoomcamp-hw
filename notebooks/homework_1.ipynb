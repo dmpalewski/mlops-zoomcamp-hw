{
 "cells": [
  {
   "cell_type": "code",
   "execution_count": 1,
   "id": "8ba8ea15",
   "metadata": {},
   "outputs": [],
   "source": [
    "import datetime\n",
    "import pandas as pd\n",
    "\n",
    "\n",
    "from sklearn.feature_extraction import DictVectorizer\n",
    "from sklearn.linear_model import LinearRegression\n",
    "from sklearn.metrics import mean_squared_error"
   ]
  },
  {
   "cell_type": "code",
   "execution_count": 2,
   "id": "848a25aa",
   "metadata": {},
   "outputs": [
    {
     "name": "stdout",
     "output_type": "stream",
     "text": [
      "<class 'pandas.core.frame.DataFrame'>\n",
      "RangeIndex: 1154112 entries, 0 to 1154111\n",
      "Data columns (total 7 columns):\n",
      " #   Column                  Non-Null Count    Dtype         \n",
      "---  ------                  --------------    -----         \n",
      " 0   dispatching_base_num    1154112 non-null  object        \n",
      " 1   pickup_datetime         1154112 non-null  datetime64[ns]\n",
      " 2   dropOff_datetime        1154112 non-null  datetime64[ns]\n",
      " 3   PUlocationID            195845 non-null   float64       \n",
      " 4   DOlocationID            991892 non-null   float64       \n",
      " 5   SR_Flag                 0 non-null        object        \n",
      " 6   Affiliated_base_number  1153227 non-null  object        \n",
      "dtypes: datetime64[ns](2), float64(2), object(3)\n",
      "memory usage: 61.6+ MB\n"
     ]
    }
   ],
   "source": [
    "df = pd.read_parquet(\"../data/fhv_tripdata_2021-01.parquet\")\n",
    "df.info()"
   ]
  },
  {
   "cell_type": "code",
   "execution_count": 3,
   "id": "aebe12fa",
   "metadata": {},
   "outputs": [],
   "source": [
    "categorical = ['PUlocationID', 'DOlocationID']"
   ]
  },
  {
   "cell_type": "markdown",
   "id": "3d1ee00d",
   "metadata": {},
   "source": [
    "## Q1: number of records?"
   ]
  },
  {
   "cell_type": "code",
   "execution_count": 4,
   "id": "7102627b",
   "metadata": {},
   "outputs": [
    {
     "name": "stdout",
     "output_type": "stream",
     "text": [
      "Number of records: 1154112\n"
     ]
    }
   ],
   "source": [
    "num_records_orig = df.shape[0]\n",
    "print(f\"Number of records: {num_records_orig}\")"
   ]
  },
  {
   "cell_type": "markdown",
   "id": "fab71cbe",
   "metadata": {},
   "source": [
    "## Q2: avg duration in Jan (minutes)"
   ]
  },
  {
   "cell_type": "code",
   "execution_count": 5,
   "id": "a7af8c18",
   "metadata": {},
   "outputs": [
    {
     "name": "stdout",
     "output_type": "stream",
     "text": [
      "Average ride time: 19.1672\n"
     ]
    }
   ],
   "source": [
    "df[\"duration\"] = (df[\"dropOff_datetime\"] - df[\"pickup_datetime\"]) / datetime.timedelta(minutes=1)\n",
    "print(f\"Average ride time: {df['duration'].mean():.4f}\")"
   ]
  },
  {
   "cell_type": "markdown",
   "id": "0ffe509d",
   "metadata": {},
   "source": [
    "## Analyze duration distribution.\n",
    "Remove outliers (keep only records with duration [1, 60])\n",
    "How many records did you remove?"
   ]
  },
  {
   "cell_type": "code",
   "execution_count": 6,
   "id": "6dc3df14",
   "metadata": {},
   "outputs": [
    {
     "data": {
      "text/plain": [
       "count    1.154112e+06\n",
       "mean     1.916722e+01\n",
       "std      3.986922e+02\n",
       "min      1.666667e-02\n",
       "25%      7.766667e+00\n",
       "50%      1.340000e+01\n",
       "75%      2.228333e+01\n",
       "max      4.233710e+05\n",
       "Name: duration, dtype: float64"
      ]
     },
     "execution_count": 6,
     "metadata": {},
     "output_type": "execute_result"
    }
   ],
   "source": [
    "df.duration.describe()"
   ]
  },
  {
   "cell_type": "code",
   "execution_count": 7,
   "id": "8c57d910",
   "metadata": {},
   "outputs": [
    {
     "name": "stdout",
     "output_type": "stream",
     "text": [
      "Number of outliers: 44286\n"
     ]
    }
   ],
   "source": [
    "df = df[(df.duration >= 1) & (df.duration <= 60)]\n",
    "num_records_no_outliers = df.shape[0]\n",
    "print(f\"Number of outliers: {num_records_orig - num_records_no_outliers}\")"
   ]
  },
  {
   "cell_type": "markdown",
   "id": "072ec6c6",
   "metadata": {},
   "source": [
    "## Q3: fraction of missing values for the pickup ID"
   ]
  },
  {
   "cell_type": "code",
   "execution_count": 8,
   "id": "85be4b92",
   "metadata": {},
   "outputs": [
    {
     "name": "stdout",
     "output_type": "stream",
     "text": [
      "Pickup ID is missing in 83.53% cases\n"
     ]
    }
   ],
   "source": [
    "df[categorical] = df[categorical].fillna(value=-1)\n",
    "frac_missing_pickup_id = df[df.PUlocationID == -1].shape[0] / num_records_no_outliers\n",
    "print(f\"Pickup ID is missing in {frac_missing_pickup_id * 100:.2f}% cases\")"
   ]
  },
  {
   "cell_type": "markdown",
   "id": "fea90bde",
   "metadata": {},
   "source": [
    "## Q4: apply one-hot encoding to the pickup and dropoff location IDs. What is the dimensionality of the matrix?"
   ]
  },
  {
   "cell_type": "code",
   "execution_count": 9,
   "id": "fb7cbf41",
   "metadata": {},
   "outputs": [
    {
     "name": "stdout",
     "output_type": "stream",
     "text": [
      "Dimensionality: 525\n"
     ]
    }
   ],
   "source": [
    "vect = DictVectorizer()\n",
    "train_dicts = df[categorical].astype(str).to_dict(orient=\"records\")\n",
    "\n",
    "X_train = vect.fit_transform(train_dicts)\n",
    "print(f\"Dimensionality: {X_train.shape[1]}\")"
   ]
  },
  {
   "cell_type": "markdown",
   "id": "9bae169a",
   "metadata": {},
   "source": [
    "## Q5: Train a plain linear regression model with default parameters. What's the RMSE on train?"
   ]
  },
  {
   "cell_type": "code",
   "execution_count": 10,
   "id": "d6edaa94",
   "metadata": {},
   "outputs": [
    {
     "name": "stdout",
     "output_type": "stream",
     "text": [
      "Model RMSE on train is 10.53\n"
     ]
    }
   ],
   "source": [
    "y_train = df.duration.values\n",
    "model = LinearRegression()\n",
    "model.fit(X_train, y_train)\n",
    "\n",
    "y_pred = model.predict(X_train)\n",
    "\n",
    "rmse = mean_squared_error(y_train, y_pred, squared=False)\n",
    "print(f\"Model RMSE on train is {rmse:.2f}\")"
   ]
  },
  {
   "cell_type": "markdown",
   "id": "fd14f55a",
   "metadata": {},
   "source": [
    "## Q6: apply this model to the validation dataset (Feb 2021). What's the RMSE on validation?"
   ]
  },
  {
   "cell_type": "code",
   "execution_count": 11,
   "id": "f41ab371",
   "metadata": {},
   "outputs": [
    {
     "name": "stdout",
     "output_type": "stream",
     "text": [
      "Model RMSE on validation is 161.00\n"
     ]
    }
   ],
   "source": [
    "df_val = pd.read_parquet(\"../data/fhv_tripdata_2021-02.parquet\")\n",
    "df_val[\"duration\"] = (df_val[\"dropOff_datetime\"] - df_val[\"pickup_datetime\"]) / datetime.timedelta(minutes=1)\n",
    "y_val = df_val[\"duration\"].values\n",
    "\n",
    "val_dicts = df_val[categorical].astype(str).to_dict(orient=\"records\")\n",
    "X_val = vect.transform(val_dicts)\n",
    "\n",
    "y_pred_val = model.predict(X_val)\n",
    "\n",
    "rmse_val = mean_squared_error(y_val, y_pred_val, squared=False)\n",
    "print(f\"Model RMSE on validation is {rmse_val:.2f}\")"
   ]
  },
  {
   "cell_type": "markdown",
   "id": "18bc4310",
   "metadata": {},
   "source": [
    "The answer doesn't seem to be close to any of the suggested options. \n",
    "Let's try removing outliers from the validation set. Questionable decision, but this will ensure that input data has the same distribution as the training data. \n",
    "In production we might have another model or another special way of dealing with outliers"
   ]
  },
  {
   "cell_type": "code",
   "execution_count": 12,
   "id": "3aed6ab5",
   "metadata": {},
   "outputs": [
    {
     "name": "stdout",
     "output_type": "stream",
     "text": [
      "Model RMSE on validation is 11.36\n"
     ]
    }
   ],
   "source": [
    "df_val = df_val[(df_val.duration >= 1) & (df_val.duration <= 60)]\n",
    "y_val = df_val[\"duration\"].values\n",
    "\n",
    "val_dicts = df_val[categorical].astype(str).to_dict(orient=\"records\")\n",
    "X_val = vect.transform(val_dicts)\n",
    "\n",
    "y_pred_val = model.predict(X_val)\n",
    "\n",
    "rmse_val = mean_squared_error(y_val, y_pred_val, squared=False)\n",
    "print(f\"Model RMSE on validation is {rmse_val:.2f}\")"
   ]
  },
  {
   "cell_type": "code",
   "execution_count": null,
   "id": "79a4a55b",
   "metadata": {},
   "outputs": [],
   "source": []
  }
 ],
 "metadata": {
  "kernelspec": {
   "display_name": "Python 3 (ipykernel)",
   "language": "python",
   "name": "python3"
  },
  "language_info": {
   "codemirror_mode": {
    "name": "ipython",
    "version": 3
   },
   "file_extension": ".py",
   "mimetype": "text/x-python",
   "name": "python",
   "nbconvert_exporter": "python",
   "pygments_lexer": "ipython3",
   "version": "3.9.12"
  }
 },
 "nbformat": 4,
 "nbformat_minor": 5
}
